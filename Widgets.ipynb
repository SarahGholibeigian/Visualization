{
 "cells": [
  {
   "cell_type": "markdown",
   "id": "d36b1ddc",
   "metadata": {},
   "source": [
    "# Widgets"
   ]
  },
  {
   "cell_type": "code",
   "execution_count": 1,
   "id": "3f93dd38",
   "metadata": {},
   "outputs": [],
   "source": [
    "import ipywidgets as widgets\n",
    "from ipywidgets import Layout, Box, HBox, VBox, interact, Output\n",
    "from IPython.display import clear_output"
   ]
  },
  {
   "cell_type": "code",
   "execution_count": 2,
   "id": "b9ea5645",
   "metadata": {},
   "outputs": [
    {
     "data": {
      "application/vnd.jupyter.widget-view+json": {
       "model_id": "10bf6f954dc24a9d8701de36d350d17b",
       "version_major": 2,
       "version_minor": 0
      },
      "text/plain": [
       "Dropdown(description='Number:', index=1, options=('1', '2', '3'), value='2')"
      ]
     },
     "metadata": {},
     "output_type": "display_data"
    }
   ],
   "source": [
    "drop0 = widgets.Dropdown(\n",
    "    options=['1', '2', '3'],\n",
    "    value='2',\n",
    "    description='Number:',\n",
    "    disabled=False,\n",
    ")\n",
    "drop0"
   ]
  },
  {
   "cell_type": "code",
   "execution_count": 3,
   "id": "49953f9b",
   "metadata": {
    "scrolled": true
   },
   "outputs": [
    {
     "data": {
      "text/plain": [
       "('2', ('1', '2', '3'))"
      ]
     },
     "execution_count": 3,
     "metadata": {},
     "output_type": "execute_result"
    }
   ],
   "source": [
    "drop0.value , drop0.options"
   ]
  },
  {
   "cell_type": "code",
   "execution_count": 4,
   "id": "ff5ef869",
   "metadata": {},
   "outputs": [],
   "source": [
    "drop0.options = ['5','6','7']"
   ]
  },
  {
   "cell_type": "code",
   "execution_count": 5,
   "id": "f1466bd6",
   "metadata": {
    "scrolled": true
   },
   "outputs": [
    {
     "data": {
      "application/vnd.jupyter.widget-view+json": {
       "model_id": "f848678b84294982bad60ada706fe4c3",
       "version_major": 2,
       "version_minor": 0
      },
      "text/plain": [
       "Dropdown(description='Number:', index=1, options=(('One', 1), ('Two', 'sara'), ('Three', 3)), value='sara')"
      ]
     },
     "metadata": {},
     "output_type": "display_data"
    }
   ],
   "source": [
    "drop = widgets.Dropdown(\n",
    "    options=[('One', 1), ('Two', 'sara'), ('Three', 3)],\n",
    "    value='sara',  #first element of the tuple is what we see and in the background we work with the second elemnt of the tuple \n",
    "    description='Number:',\n",
    ")\n",
    "\n",
    "drop"
   ]
  },
  {
   "cell_type": "code",
   "execution_count": 6,
   "id": "156cfac9",
   "metadata": {},
   "outputs": [
    {
     "data": {
      "text/plain": [
       "('sara', (('One', 1), ('Two', 'sara'), ('Three', 3)))"
      ]
     },
     "execution_count": 6,
     "metadata": {},
     "output_type": "execute_result"
    }
   ],
   "source": [
    "drop.value , drop.options"
   ]
  },
  {
   "cell_type": "code",
   "execution_count": 7,
   "id": "599b93f1",
   "metadata": {},
   "outputs": [
    {
     "data": {
      "application/vnd.jupyter.widget-view+json": {
       "model_id": "2d22e43cf38f458794b8fd0e28174fca",
       "version_major": 2,
       "version_minor": 0
      },
      "text/plain": [
       "IntSlider(value=7, continuous_update=False, description='Test:', max=10)"
      ]
     },
     "metadata": {},
     "output_type": "display_data"
    }
   ],
   "source": [
    "slider1 = widgets.IntSlider(\n",
    "    value=7,\n",
    "    min=0,\n",
    "    max=10,\n",
    "    step=1,\n",
    "    description='Test:',\n",
    "    disabled=False,\n",
    "    continuous_update=False,\n",
    "    orientation='horizontal',\n",
    "    readout=True,\n",
    "    readout_format='d'\n",
    ")\n",
    "slider1 #if we change it anywhere in the notebook, will change all slider1"
   ]
  },
  {
   "cell_type": "code",
   "execution_count": 8,
   "id": "4332efc9",
   "metadata": {},
   "outputs": [
    {
     "data": {
      "application/vnd.jupyter.widget-view+json": {
       "model_id": "2d22e43cf38f458794b8fd0e28174fca",
       "version_major": 2,
       "version_minor": 0
      },
      "text/plain": [
       "IntSlider(value=7, continuous_update=False, description='Test:', max=10)"
      ]
     },
     "metadata": {},
     "output_type": "display_data"
    }
   ],
   "source": [
    "slider1"
   ]
  },
  {
   "cell_type": "code",
   "execution_count": 9,
   "id": "f4915066",
   "metadata": {},
   "outputs": [],
   "source": [
    "slider1.value = 1\n"
   ]
  },
  {
   "cell_type": "code",
   "execution_count": 10,
   "id": "d7c630c2",
   "metadata": {},
   "outputs": [
    {
     "data": {
      "text/plain": [
       "1"
      ]
     },
     "execution_count": 10,
     "metadata": {},
     "output_type": "execute_result"
    }
   ],
   "source": [
    "slider1.value #will not change if we change the slider, will have to run it\n"
   ]
  },
  {
   "cell_type": "code",
   "execution_count": 11,
   "id": "e9520fe0",
   "metadata": {
    "scrolled": true
   },
   "outputs": [
    {
     "data": {
      "application/vnd.jupyter.widget-view+json": {
       "model_id": "a9f03fde4db34f2180ccd6ae82c9822d",
       "version_major": 2,
       "version_minor": 0
      },
      "text/plain": [
       "interactive(children=(IntSlider(value=1, continuous_update=False, description='Test:', max=10), Output()), _do…"
      ]
     },
     "metadata": {},
     "output_type": "display_data"
    }
   ],
   "source": [
    "# interact function: the funcion f1 and the widget slider1 dynamically (real time) interacts\n",
    "# everytime slider1 changes, this function will be called. \n",
    "# if we don't have a name for the function will show function__main___.f1 (the address of the func)\n",
    "# \n",
    "def f1(x): #\n",
    "    return slider1.value\n",
    "#     print(slider1.value)\n",
    "\n",
    "f1_interact = interact(f1, x = slider1)"
   ]
  },
  {
   "cell_type": "code",
   "execution_count": 12,
   "id": "19e8d92e",
   "metadata": {},
   "outputs": [
    {
     "data": {
      "application/vnd.jupyter.widget-view+json": {
       "model_id": "8332d30a2cb647c1b74b5ce7d0bbc67c",
       "version_major": 2,
       "version_minor": 0
      },
      "text/plain": [
       "interactive(children=(IntSlider(value=1, continuous_update=False, description='Test:', max=10), Output()), _do…"
      ]
     },
     "metadata": {},
     "output_type": "display_data"
    }
   ],
   "source": [
    "@interact(x = slider1)\n",
    "def f1(x): \n",
    "    return slider1.value"
   ]
  },
  {
   "cell_type": "code",
   "execution_count": 13,
   "id": "81682c05",
   "metadata": {},
   "outputs": [
    {
     "data": {
      "application/vnd.jupyter.widget-view+json": {
       "model_id": "f46619cf018947ce813bc67c395d9cac",
       "version_major": 2,
       "version_minor": 0
      },
      "text/plain": [
       "interactive(children=(IntSlider(value=7, continuous_update=False, description='Test:', max=10), Output()), _do…"
      ]
     },
     "metadata": {},
     "output_type": "display_data"
    }
   ],
   "source": [
    "slider2 = widgets.IntSlider(\n",
    "    value=7,\n",
    "    min=0,\n",
    "    max=10,\n",
    "    step=1,\n",
    "    description='Test:',\n",
    "    disabled=False,\n",
    "    continuous_update=False,\n",
    "    orientation='horizontal',\n",
    "    readout=True,\n",
    "    readout_format='d'\n",
    ")\n",
    "\n",
    "time = 0\n",
    "def f2(x):  # doesn not matter what the function does,when slider2 changes, will call the function\n",
    "    global time \n",
    "    time += 1\n",
    "    return time\n",
    "\n",
    "f2_interact = interact(f2, x=slider2) \n"
   ]
  },
  {
   "cell_type": "code",
   "execution_count": 14,
   "id": "cbdf1662",
   "metadata": {},
   "outputs": [
    {
     "data": {
      "text/plain": [
       "(BoundedIntText(value=7, description='Text:', max=10),\n",
       " BoundedIntText(value=7, description='Text:', max=10))"
      ]
     },
     "execution_count": 14,
     "metadata": {},
     "output_type": "execute_result"
    }
   ],
   "source": [
    "int1 = widgets.BoundedIntText(\n",
    "    value=7,\n",
    "    min=0,\n",
    "    max=10,\n",
    "    step=1,\n",
    "    description='Text:',\n",
    "    disabled=False\n",
    ")\n",
    "int2 = widgets.BoundedIntText(\n",
    "    value=7,\n",
    "    min=0,\n",
    "    max=10,\n",
    "    step=1,\n",
    "    description='Text:',\n",
    "    disabled=False\n",
    ")\n",
    "int1, int2 #when there is a tuple, it more like calling a func. we have to display it if we want to display two widgets"
   ]
  },
  {
   "cell_type": "code",
   "execution_count": 15,
   "id": "f2e5bfb3",
   "metadata": {},
   "outputs": [
    {
     "data": {
      "application/vnd.jupyter.widget-view+json": {
       "model_id": "b3f90c6c119c4c5e88ce1e006c2e1ba5",
       "version_major": 2,
       "version_minor": 0
      },
      "text/plain": [
       "BoundedIntText(value=7, description='Text:', max=10)"
      ]
     },
     "metadata": {},
     "output_type": "display_data"
    },
    {
     "data": {
      "application/vnd.jupyter.widget-view+json": {
       "model_id": "3a14426a3c6246bcb7075725fff05723",
       "version_major": 2,
       "version_minor": 0
      },
      "text/plain": [
       "BoundedIntText(value=7, description='Text:', max=10)"
      ]
     },
     "metadata": {},
     "output_type": "display_data"
    }
   ],
   "source": [
    "display(int1,int2)"
   ]
  },
  {
   "cell_type": "code",
   "execution_count": 16,
   "id": "4be6e942",
   "metadata": {},
   "outputs": [
    {
     "data": {
      "application/vnd.jupyter.widget-view+json": {
       "model_id": "23d2250719b04404b0f9491006c8e916",
       "version_major": 2,
       "version_minor": 0
      },
      "text/plain": [
       "IntRangeSlider(value=(7, 7), continuous_update=False, description='Test:', max=10)"
      ]
     },
     "metadata": {},
     "output_type": "display_data"
    }
   ],
   "source": [
    "range_slider1 = widgets.IntRangeSlider(  #since it's not interactive, everytime we have to run this cell to update it\n",
    "    value=[int1.value, int2.value],\n",
    "    min=0,\n",
    "    max=10,\n",
    "    step=1,\n",
    "    description='Test:',\n",
    "    disabled=False,\n",
    "    continuous_update=False,\n",
    "    orientation='horizontal',\n",
    "    readout=True,\n",
    "    readout_format='d',\n",
    ")\n",
    "range_slider1"
   ]
  },
  {
   "cell_type": "code",
   "execution_count": 17,
   "id": "5448bcbd",
   "metadata": {},
   "outputs": [
    {
     "data": {
      "application/vnd.jupyter.widget-view+json": {
       "model_id": "0201f4f5d6be4464a2c58c3e66a0f643",
       "version_major": 2,
       "version_minor": 0
      },
      "text/plain": [
       "interactive(children=(BoundedIntText(value=7, description='Text:', max=10), BoundedIntText(value=7, descriptio…"
      ]
     },
     "metadata": {},
     "output_type": "display_data"
    }
   ],
   "source": [
    "def f3(x, y):\n",
    "    range_slider1.value = [int1.value, int2.value]\n",
    "    return range_slider1\n",
    "    \n",
    "f3_interact = interact(f3,x=int1,y=int2) #vaghti ba widget x , y kar mikoni, function call mishe."
   ]
  },
  {
   "cell_type": "code",
   "execution_count": 18,
   "id": "ba82df6c",
   "metadata": {},
   "outputs": [
    {
     "data": {
      "application/vnd.jupyter.widget-view+json": {
       "model_id": "09352ebcd67c43239affaac4de7a64ba",
       "version_major": 2,
       "version_minor": 0
      },
      "text/plain": [
       "interactive(children=(RadioButtons(description='Car category:', options=('None', 'luxury', 'economy'), value='…"
      ]
     },
     "metadata": {},
     "output_type": "display_data"
    }
   ],
   "source": [
    "Cars_lux = ['BMW', 'Benz', 'Tesla', 'Hyundai']\n",
    "Cars_eco = ['Lexus', 'Mitsubushi', 'Civic']\n",
    "\n",
    "category = widgets.RadioButtons(\n",
    "    options=['None', 'luxury', 'economy'],\n",
    "    value='None', # Defaults to 'None'\n",
    "#    layout={'width': 'max-content'}, # If the items' names are long\n",
    "    description='Car category:',\n",
    "    disabled=False\n",
    ")\n",
    "\n",
    "drop_car = widgets.Dropdown(\n",
    "    options=[('One', 1), ('Two', 2), ('Three', 3)],\n",
    "    value=2,\n",
    "    description='Number:',\n",
    ")\n",
    "\n",
    "def car(x):\n",
    "    if category.value == \"None\":\n",
    "        drop_car.options = []\n",
    "    if category.value == 'luxury':\n",
    "        drop_car.options = Cars_lux\n",
    "    if category.value == 'economy':\n",
    "        drop_car.options = Cars_eco\n",
    "    return drop_car\n",
    "    \n",
    "    \n",
    "category_interact = interact(car, x=category)\n",
    "# drop_car"
   ]
  },
  {
   "cell_type": "code",
   "execution_count": 19,
   "id": "f845e27c",
   "metadata": {},
   "outputs": [],
   "source": [
    "out1 = Output() #creating a standardoutput (a whiteboard)"
   ]
  },
  {
   "cell_type": "code",
   "execution_count": 20,
   "id": "63dc0cb2",
   "metadata": {},
   "outputs": [],
   "source": [
    "with out1:\n",
    "    print('1')\n",
    "    m = 2\n",
    "    print(m)"
   ]
  },
  {
   "cell_type": "code",
   "execution_count": 21,
   "id": "177a06ee",
   "metadata": {},
   "outputs": [
    {
     "data": {
      "application/vnd.jupyter.widget-view+json": {
       "model_id": "dd0838849a6440859665237d7e9bdd93",
       "version_major": 2,
       "version_minor": 0
      },
      "text/plain": [
       "Output()"
      ]
     },
     "metadata": {},
     "output_type": "display_data"
    }
   ],
   "source": [
    "out1"
   ]
  },
  {
   "cell_type": "code",
   "execution_count": 22,
   "id": "cf00da69",
   "metadata": {},
   "outputs": [],
   "source": [
    "out2 = Output()"
   ]
  },
  {
   "cell_type": "code",
   "execution_count": 23,
   "id": "e5d57476",
   "metadata": {},
   "outputs": [
    {
     "data": {
      "application/vnd.jupyter.widget-view+json": {
       "model_id": "9b10261474694942aa3434f54841fef9",
       "version_major": 2,
       "version_minor": 0
      },
      "text/plain": [
       "Output()"
      ]
     },
     "metadata": {},
     "output_type": "display_data"
    }
   ],
   "source": [
    "with out2:\n",
    "    display(drop_car)\n",
    "out2"
   ]
  },
  {
   "cell_type": "code",
   "execution_count": 24,
   "id": "fdf571f1",
   "metadata": {},
   "outputs": [],
   "source": [
    "out3 = Output()"
   ]
  },
  {
   "cell_type": "code",
   "execution_count": 25,
   "id": "65988836",
   "metadata": {},
   "outputs": [
    {
     "data": {
      "application/vnd.jupyter.widget-view+json": {
       "model_id": "32ff1be1e17b4482b03d024e92947ce3",
       "version_major": 2,
       "version_minor": 0
      },
      "text/plain": [
       "Output()"
      ]
     },
     "metadata": {},
     "output_type": "display_data"
    }
   ],
   "source": [
    "with out3:\n",
    "    print('To be continued....')\n",
    "out3"
   ]
  },
  {
   "cell_type": "code",
   "execution_count": 26,
   "id": "6fd8ff9f",
   "metadata": {},
   "outputs": [
    {
     "data": {
      "application/vnd.jupyter.widget-view+json": {
       "model_id": "b80d2ed3d36e47b99918b077207f4de3",
       "version_major": 2,
       "version_minor": 0
      },
      "text/plain": [
       "interactive(children=(RadioButtons(description='Car category:', options=('None', 'luxury', 'economy'), value='…"
      ]
     },
     "metadata": {},
     "output_type": "display_data"
    }
   ],
   "source": [
    "category.value = \"None\"\n",
    "\n",
    "def car2(x):\n",
    "    out2.clear_output()\n",
    "    if category.value == \"None\":\n",
    "        drop_car.options = []\n",
    "#         out2.clear_output()\n",
    "    else:\n",
    "#         out2.clear_output()\n",
    "        with out2:\n",
    "            display(drop_car)\n",
    "        display(out2)\n",
    "    if category.value == 'luxury':\n",
    "        drop_car.options = Cars_lux\n",
    "    if category.value == 'economy':\n",
    "        drop_car.options = Cars_eco\n",
    "        \n",
    "        #############\n",
    "        out3.clear_output()\n",
    "        if drop_car.value == 'Lexus':\n",
    "            with out3:\n",
    "                print('To be continued....')\n",
    "            display(out3)\n",
    "        #############\n",
    "        \n",
    "category_interact2 = interact(car2, x=category)"
   ]
  },
  {
   "cell_type": "code",
   "execution_count": 27,
   "id": "90780d2b",
   "metadata": {},
   "outputs": [
    {
     "data": {
      "application/vnd.jupyter.widget-view+json": {
       "model_id": "1f787e2b8f6b4d0282d9ea403bcf047b",
       "version_major": 2,
       "version_minor": 0
      },
      "text/plain": [
       "interactive(children=(RadioButtons(description='Car category:', options=('None', 'luxury', 'economy'), value='…"
      ]
     },
     "metadata": {},
     "output_type": "display_data"
    }
   ],
   "source": [
    "category.value = \"None\"\n",
    "out4 = Output()\n",
    "\n",
    "def car3(x):\n",
    "    out4.clear_output()\n",
    "    if category.value == \"None\":\n",
    "        drop_car.options = []\n",
    "#         out2.clear_output()\n",
    "    else:\n",
    "#         out2.clear_output()\n",
    "        with out4:\n",
    "            number_interact = interact(num, x=drop_car)\n",
    "        display(out4)\n",
    "    if category.value == 'luxury':\n",
    "        drop_car.options = Cars_lux\n",
    "    if category.value == 'economy':\n",
    "        drop_car.options = Cars_eco\n",
    "\n",
    "category_interact3= interact(car3, x=category)\n",
    "\n",
    "def num(x):\n",
    "    out3.clear_output()\n",
    "    if drop_car.value == 'Lexus':\n",
    "        with out3:\n",
    "            print('To be continued....')\n",
    "    display(out3)\n",
    "\n",
    "\n",
    "\n",
    " "
   ]
  },
  {
   "cell_type": "code",
   "execution_count": 28,
   "id": "869f1d8b",
   "metadata": {},
   "outputs": [
    {
     "data": {
      "application/vnd.jupyter.widget-view+json": {
       "model_id": "a352d468e5984e4a81944a1a4bc17045",
       "version_major": 2,
       "version_minor": 0
      },
      "text/plain": [
       "Button(description='Click me', icon='check', style=ButtonStyle(), tooltip='Click me')"
      ]
     },
     "metadata": {},
     "output_type": "display_data"
    },
    {
     "name": "stdout",
     "output_type": "stream",
     "text": [
      "salam\n",
      "salam\n",
      "salam\n",
      "salam\n"
     ]
    }
   ],
   "source": [
    "button = widgets.Button(\n",
    "    description='Click me',\n",
    "    disabled=False,\n",
    "    button_style='', # 'success', 'info', 'warning', 'danger' or ''\n",
    "    tooltip='Click me',\n",
    "    icon='check' # (FontAwesome names without the `fa-` prefix)\n",
    ")\n",
    "\n",
    "def foo(x):\n",
    "    print(\"salam\")\n",
    "    \n",
    "button.on_click(foo)\n",
    "button"
   ]
  },
  {
   "cell_type": "markdown",
   "id": "177be787",
   "metadata": {},
   "source": [
    "## interactive vs button"
   ]
  },
  {
   "cell_type": "code",
   "execution_count": 45,
   "id": "fb35a2f8",
   "metadata": {},
   "outputs": [
    {
     "data": {
      "application/vnd.jupyter.widget-view+json": {
       "model_id": "fd2a692a7cdd40c1baf2c309be64abff",
       "version_major": 2,
       "version_minor": 0
      },
      "text/plain": [
       "Button(description='Click me', icon='check', style=ButtonStyle(), tooltip='Click me')"
      ]
     },
     "metadata": {},
     "output_type": "display_data"
    }
   ],
   "source": [
    "button3 = widgets.Button(\n",
    "    description='Click me',\n",
    "    button_style='', # 'success', 'info', 'warning', 'danger' or ''\n",
    "    tooltip='Click me',\n",
    "    icon='check' # (FontAwesome names without the `fa-` prefix)\n",
    ")\n",
    "\n",
    "out6 = Output()\n",
    "\n",
    "def foo3(x):\n",
    "    out6.clear_output() # it does clear the whiteboard (output6) not the button whiteboard\n",
    "    with out6:\n",
    "        print('111')\n",
    "    display(out6) # it does write in the button whiteboard itself \n",
    "    \n",
    "button3.on_click(foo3) #click is like creating a output (whiteboard) itself whereas interact does not have a standard output\n",
    "button3"
   ]
  },
  {
   "cell_type": "code",
   "execution_count": 38,
   "id": "8082e08c",
   "metadata": {},
   "outputs": [
    {
     "data": {
      "application/vnd.jupyter.widget-view+json": {
       "model_id": "cbe7d1d938844b8d8c890523201bb51d",
       "version_major": 2,
       "version_minor": 0
      },
      "text/plain": [
       "Output(outputs=({'output_type': 'stream', 'text': '111\\n', 'name': 'stdout'},))"
      ]
     },
     "metadata": {},
     "output_type": "display_data"
    },
    {
     "data": {
      "application/vnd.jupyter.widget-view+json": {
       "model_id": "cbe7d1d938844b8d8c890523201bb51d",
       "version_major": 2,
       "version_minor": 0
      },
      "text/plain": [
       "Output(outputs=({'output_type': 'stream', 'text': '111\\n', 'name': 'stdout'},))"
      ]
     },
     "metadata": {},
     "output_type": "display_data"
    }
   ],
   "source": [
    "display(out6)\n",
    "display(out6)"
   ]
  },
  {
   "cell_type": "code",
   "execution_count": 42,
   "id": "8d2e3ad8",
   "metadata": {},
   "outputs": [
    {
     "data": {
      "application/vnd.jupyter.widget-view+json": {
       "model_id": "e947ef1fbba6400bb19c432c80457fa4",
       "version_major": 2,
       "version_minor": 0
      },
      "text/plain": [
       "interactive(children=(RadioButtons(description='Car category:', options=('None', 'luxury', 'economy'), value='…"
      ]
     },
     "metadata": {},
     "output_type": "display_data"
    }
   ],
   "source": [
    "category3 = widgets.RadioButtons(\n",
    "    options=['None', 'luxury', 'economy'],\n",
    "    value='None', # Defaults to 'None'\n",
    "#    layout={'width': 'max-content'}, # If the items' names are long\n",
    "    description='Car category:',\n",
    "    disabled=False\n",
    ")\n",
    "\n",
    "out7 = Output()\n",
    "\n",
    "#difference between button and interactive.\n",
    "\n",
    "@interact(x=category3)\n",
    "def foo4(x):\n",
    "    out7.clear_output()\n",
    "    with out7:\n",
    "        print('111')\n",
    "    display(out7)    "
   ]
  },
  {
   "cell_type": "code",
   "execution_count": 32,
   "id": "fd8a39a4",
   "metadata": {},
   "outputs": [
    {
     "data": {
      "application/vnd.jupyter.widget-view+json": {
       "model_id": "fa2df4b6039f4bcb96170881770541da",
       "version_major": 2,
       "version_minor": 0
      },
      "text/plain": [
       "RadioButtons(description='Car category:', options=('None', 'luxury', 'economy'), value='None')"
      ]
     },
     "metadata": {},
     "output_type": "display_data"
    },
    {
     "data": {
      "application/vnd.jupyter.widget-view+json": {
       "model_id": "b2645431d57d411d8eff134c34b97c6f",
       "version_major": 2,
       "version_minor": 0
      },
      "text/plain": [
       "Button(description='Click me', icon='check', style=ButtonStyle(), tooltip='Click me')"
      ]
     },
     "metadata": {},
     "output_type": "display_data"
    },
    {
     "data": {
      "application/vnd.jupyter.widget-view+json": {
       "model_id": "2638d2986c85476e9ef426bb168b3e1d",
       "version_major": 2,
       "version_minor": 0
      },
      "text/plain": [
       "Output()"
      ]
     },
     "metadata": {},
     "output_type": "display_data"
    }
   ],
   "source": [
    "category2 = widgets.RadioButtons(\n",
    "    options=['None', 'luxury', 'economy'],\n",
    "    value='None', # Defaults to 'None'\n",
    "#    layout={'width': 'max-content'}, # If the items' names are long\n",
    "    description='Car category:',\n",
    "    disabled=False\n",
    ")\n",
    "\n",
    "\n",
    "button2 = widgets.Button(\n",
    "    description='Click me',\n",
    "    disabled=False,\n",
    "    button_style='', # 'success', 'info', 'warning', 'danger' or ''\n",
    "    tooltip='Click me',\n",
    "    icon='check' # (FontAwesome names without the `fa-` prefix)\n",
    ")\n",
    "# \n",
    "\n",
    "out5 = Output()\n",
    "    \n",
    "def foo2(b):\n",
    "\n",
    "    out5.clear_output()\n",
    "    with out5:\n",
    "        print(category2.value)\n",
    "#     display(out5)\n",
    "    \n",
    "\n",
    "button2.on_click(foo2)\n",
    "display(category2, button2, out5) #best practice:just display it and not display it within the func"
   ]
  },
  {
   "cell_type": "markdown",
   "id": "796257d8",
   "metadata": {},
   "source": [
    "## Layout"
   ]
  },
  {
   "cell_type": "code",
   "execution_count": 33,
   "id": "7a1a5aa4",
   "metadata": {},
   "outputs": [
    {
     "data": {
      "application/vnd.jupyter.widget-view+json": {
       "model_id": "51a0bfd2c012400fb81895b1439b3dcd",
       "version_major": 2,
       "version_minor": 0
      },
      "text/plain": [
       "Button(button_style='danger', description='button', layout=Layout(width='20%'), style=ButtonStyle())"
      ]
     },
     "metadata": {},
     "output_type": "display_data"
    }
   ],
   "source": [
    "button_new = widgets.Button(description='button', layout=Layout(width='20%'), button_style='danger')\n",
    "button_new"
   ]
  },
  {
   "cell_type": "code",
   "execution_count": 34,
   "id": "3b0f7c0a",
   "metadata": {},
   "outputs": [
    {
     "data": {
      "application/vnd.jupyter.widget-view+json": {
       "model_id": "3f448e5c1bc54d8fb83c607f6159a938",
       "version_major": 2,
       "version_minor": 0
      },
      "text/plain": [
       "HBox(children=(Label(value='Click:'), Button(button_style='danger', description='button', layout=Layout(width=…"
      ]
     },
     "metadata": {},
     "output_type": "display_data"
    }
   ],
   "source": [
    "lab = widgets.Label(value='Click:')\n",
    "items = [lab, button_new, button_new, out5]\n",
    "HBox(children=items)"
   ]
  },
  {
   "cell_type": "code",
   "execution_count": 43,
   "id": "504a31ba",
   "metadata": {},
   "outputs": [
    {
     "data": {
      "application/vnd.jupyter.widget-view+json": {
       "model_id": "228e8a7d168b43b5bfdfde7861fa0b74",
       "version_major": 2,
       "version_minor": 0
      },
      "text/plain": [
       "VBox(children=(Button(button_style='danger', description='button', layout=Layout(width='20%'), style=ButtonSty…"
      ]
     },
     "metadata": {},
     "output_type": "display_data"
    }
   ],
   "source": [
    "VBox(children = [button_new, button_new])"
   ]
  },
  {
   "cell_type": "code",
   "execution_count": 35,
   "id": "c8f6e8c3",
   "metadata": {},
   "outputs": [
    {
     "data": {
      "application/vnd.jupyter.widget-view+json": {
       "model_id": "7b6c6767f3684f3f99fcb3635e37a680",
       "version_major": 2,
       "version_minor": 0
      },
      "text/plain": [
       "VBox(children=(HBox(children=(Label(value='Click:'), Button(button_style='danger', description='button', layou…"
      ]
     },
     "metadata": {},
     "output_type": "display_data"
    }
   ],
   "source": [
    "VBox(children=[HBox(children=items), \n",
    "               HBox(children=[widgets.Label(value=' ', layout=Layout(width='20%')), button_new])])\n"
   ]
  },
  {
   "cell_type": "code",
   "execution_count": 36,
   "id": "4a387043",
   "metadata": {},
   "outputs": [
    {
     "data": {
      "application/vnd.jupyter.widget-view+json": {
       "model_id": "2b3ed5efe5d244b4bcf14a7a688de029",
       "version_major": 2,
       "version_minor": 0
      },
      "text/plain": [
       "Tab(children=(Button(button_style='danger', description='button', layout=Layout(width='20%'), style=ButtonStyl…"
      ]
     },
     "metadata": {},
     "output_type": "display_data"
    }
   ],
   "source": [
    "tab1 = button_new\n",
    "tab2 = HBox(children=items)\n",
    "tab3 = VBox(children=[HBox(children=items), \n",
    "               HBox(children=[widgets.Label(value=' ', layout=Layout(width='20%')), button_new])])\n",
    "\n",
    "tab = widgets.Tab(children=[tab1, tab2, tab3])\n",
    "\n",
    "tab.set_title(0, 'tab1')\n",
    "tab.set_title(1, 'tabb2')\n",
    "tab.set_title(2, 'tabbb3')\n",
    "\n",
    "tab"
   ]
  },
  {
   "cell_type": "code",
   "execution_count": 37,
   "id": "c4f44965",
   "metadata": {},
   "outputs": [
    {
     "data": {
      "application/vnd.jupyter.widget-view+json": {
       "model_id": "7efa7ce58a29401bb9ea40b907958cff",
       "version_major": 2,
       "version_minor": 0
      },
      "text/plain": [
       "interactive(children=(FloatSlider(value=7.0, continuous_update=False, description='Lenght:', readout_format='d…"
      ]
     },
     "metadata": {},
     "output_type": "display_data"
    }
   ],
   "source": [
    "import matplotlib.pyplot as plt\n",
    "import numpy as np\n",
    "\n",
    "slider_test1 = widgets.FloatSlider(\n",
    "    value=7,\n",
    "    min=0,\n",
    "    max=100,\n",
    "    step=1,\n",
    "    description='Lenght:',\n",
    "    disabled=False,\n",
    "    continuous_update=False,\n",
    "    orientation='horizontal',\n",
    "    readout=True,\n",
    "    readout_format='d'\n",
    ")\n",
    "\n",
    "slider_test2 = widgets.FloatSlider(\n",
    "    value=7,\n",
    "    min=0,\n",
    "    max=10,\n",
    "    step=1,\n",
    "    description='Slope:',\n",
    "    disabled=False,\n",
    "    continuous_update=False,\n",
    "    orientation='horizontal',\n",
    "    readout=True,\n",
    "    readout_format='d'\n",
    ")\n",
    "\n",
    "def fou(x,y):\n",
    "    t = np.arange(slider_test1.value)\n",
    "    y = t*slider_test2.value\n",
    "    plt.figure(figsize=(12,3))\n",
    "    plt.plot(t,y)\n",
    "    plt.xlim(0,100)\n",
    "    plt.ylim(0,100)\n",
    "\n",
    "test_interact = interact(fou, x=slider_test1, y=slider_test2)\n",
    "\n"
   ]
  },
  {
   "cell_type": "code",
   "execution_count": null,
   "id": "11d2062a",
   "metadata": {},
   "outputs": [],
   "source": []
  },
  {
   "cell_type": "code",
   "execution_count": null,
   "id": "5e23c374",
   "metadata": {},
   "outputs": [],
   "source": [
    "\n"
   ]
  }
 ],
 "metadata": {
  "kernelspec": {
   "display_name": "Python 3",
   "language": "python",
   "name": "python3"
  },
  "language_info": {
   "codemirror_mode": {
    "name": "ipython",
    "version": 3
   },
   "file_extension": ".py",
   "mimetype": "text/x-python",
   "name": "python",
   "nbconvert_exporter": "python",
   "pygments_lexer": "ipython3",
   "version": "3.7.10"
  }
 },
 "nbformat": 4,
 "nbformat_minor": 5
}
